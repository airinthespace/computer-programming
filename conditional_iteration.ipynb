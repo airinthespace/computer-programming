{
 "cells": [
  {
   "cell_type": "markdown",
   "metadata": {
    "slideshow": {
     "slide_type": "slide"
    }
   },
   "source": [
    "### MY470 Computer Programming\n",
    "\n",
    "### Problem Set 1 (SUMMATIVE), AT 2023\n",
    "\n",
    "#### \\*\\*\\* Due 12:00 noon on Monday, October 16 \\*\\*\\*"
   ]
  },
  {
   "cell_type": "markdown",
   "metadata": {
    "slideshow": {
     "slide_type": "slide"
    }
   },
   "source": [
    "---\n",
    "### Working with data files\n",
    "\n",
    "For this problem set, we will use data from the file `ca-GrQc.txt`, which you can locate in the `data` repository. The file contains the co-authorship links for articles in the ArXiv category General Relativity. Each line in the file includes the ids of two authors who have worked together on at least one article. In network analysis parlance, this is known as an \"edge list.\" The data are obtained from the [Stanford Large Network Dataset Collection](https://snap.stanford.edu/data/index.html) and you can find more information about them on https://snap.stanford.edu/data/ca-GrQc.html.\n",
    "\n",
    "#### Hints\n",
    "\n",
    "The problems below need to be done in sequence because objects (lists, dictionaries, etc.) you create in early problems may be needed for a later problem. However, if you don't manage to obtain these objects at the beginning, just hard-code fictitious ones, e.g. `[13, 14, 22, 24, 25, 26, 27, 28, 29, 45]` or `{13: [13, 7596, 11196, 19170], 14: [14171]}`. "
   ]
  },
  {
   "cell_type": "markdown",
   "metadata": {},
   "source": [
    "### Problem 1: Get all coauthorships in a list of lists\n",
    "\n",
    "Create a list that contains all edges included in the data file as lists of the two authors' ids, where the ids are saved as integers. Your list should look like `[[3466, 937], [3466, 5233], ...]`. To achieve this, use a `for` loop to iterate over each line in the file. One way to do this is as follows:\n",
    "\n",
    "```\n",
    "for line in open('../data/ca-GrQc.txt', 'r'):\n",
    "    do something with line\n",
    "```\n",
    "\n",
    "⚡️ Notice that this is a more efficient way to read data than `file.read()`, which we used in the formative problem set, as you don't load all data in memory but stream them line by line. \n",
    "\n",
    "Print the first 10 entries in your list. \n",
    "\n",
    "#### Hints\n",
    "\n",
    "It is a good practice to write and test your initial code using a smaller version of the dataset. This will help you debug faster. It will also allow you to manually check for possible errors. \n",
    "\n",
    "You need to ignore the first four lines of the file that contain explanatory text.\n",
    "\n",
    "In the file, the two author ids are separated with tabs and the tab character is encoded as `'\\t'`.\n"
   ]
  },
  {
   "cell_type": "code",
   "execution_count": 8,
   "metadata": {},
   "outputs": [
    {
     "name": "stdout",
     "output_type": "stream",
     "text": [
      "[[3466, 937], [3466, 5233], [3466, 8579], [3466, 10310], [3466, 15931], [3466, 17038], [3466, 18720], [3466, 19607], [10310, 1854], [10310, 3466]]\n"
     ]
    }
   ],
   "source": [
    "coauthorship_list = []\n",
    "\n",
    "with open('../data/ca-GrQc.txt', 'r') as file:\n",
    "    lines = file.readlines()[4:]      # Ignoring first four lines of the file\n",
    "    for line in lines:\n",
    "        author_ids = line.strip().split('\\t')\n",
    "        author1 = int(author_ids[0])  # For loop iterate over each line and creates edges with index 0 and 1\n",
    "        author2 = int(author_ids[1])\n",
    "        coauthorship = [author1, author2]\n",
    "\n",
    "        coa = []\n",
    "        for author in author_ids:\n",
    "            coa.append(int(author))\n",
    "\n",
    "        coauthorship_list.append(coauthorship)\n",
    "\n",
    "print(coauthorship_list[:10])       # Printing first 10 entries in the list\n"
   ]
  },
  {
   "cell_type": "markdown",
   "metadata": {},
   "source": [
    "### Problem 2: Who are the authors in the data?\n",
    "\n",
    "Create a sorted list with the integer ids for all of the unique authors in the dataset. Print the first 10 authors in the list. Then print how many authors there are in total.\n",
    "\n",
    "Then, using a dictionary comprehension, create a dictionary in which the keys are the author integer ids and the values are empty lists. The dictionary should look something like: `{13: [], 14: [], 22: [], ...}`. To confirm, print the dictionary values for the authors in the list `[13, 14, 22, 24, 25, 26, 27, 28, 29, 45]`.\n",
    "\n",
    "#### Hints\n",
    "\n",
    "Note that if the edge *i–j* is in the data, then the edge *j–i* is also there. This means that for this task you don't need to consider the second author in the line. You can get all authors by collecting just the first author in each line in the file."
   ]
  },
  {
   "cell_type": "code",
   "execution_count": 3,
   "metadata": {},
   "outputs": [],
   "source": [
    "i = coauthorship_list[0]"
   ]
  },
  {
   "cell_type": "code",
   "execution_count": 4,
   "metadata": {},
   "outputs": [
    {
     "data": {
      "text/plain": [
       "[3466, 937]"
      ]
     },
     "execution_count": 4,
     "metadata": {},
     "output_type": "execute_result"
    }
   ],
   "source": [
    "i"
   ]
  },
  {
   "cell_type": "code",
   "execution_count": 9,
   "metadata": {},
   "outputs": [
    {
     "name": "stdout",
     "output_type": "stream",
     "text": [
      "First 10 unique author IDs: [13, 14, 22, 24, 25, 26, 27, 28, 29, 45]\n",
      "Total number of unique authors is 5242\n",
      "{13: [], 14: [], 22: [], 24: [], 25: [], 26: [], 27: [], 28: [], 29: [], 45: []}\n"
     ]
    }
   ],
   "source": [
    "unique_authors = set()\n",
    "for coauthorship in coauthorship_list:\n",
    "    unique_authors.update(coauthorship)\n",
    "\n",
    "# Sorting the unique author IDs\n",
    "sorted_authors = sorted(unique_authors) \n",
    "print(\"First 10 unique author IDs:\", sorted_authors[:10])\n",
    "\n",
    "num_authors = len(sorted_authors)\n",
    "print(\"Total number of unique authors is\", num_authors)\n",
    "\n",
    "author_dict = {author_id:[] for author_id in sorted_authors} #creating a dictionary in which the keys are the author integer ids and the values are empty lists\n",
    "#print(author_dict)\n",
    "\n",
    "# Authors to look for confirmation\n",
    "authors_sample = [13, 14, 22, 24, 25, 26, 27, 28, 29, 45]    \n",
    "sample_dict = {author_id: list(author_dict.get(author_id, [])) for author_id in authors_sample}\n",
    "print(sample_dict)\n",
    "\n"
   ]
  },
  {
   "cell_type": "markdown",
   "metadata": {},
   "source": [
    "---\n",
    "### Problem 3: Get each author's coauthors\n",
    "\n",
    "Enter each author's unique coauthors in the empty dictionary you created in Problem 2. The dictionary should now look something like: `{13: [7596, 11196, 19170], 14: [14171], ...}`.\n",
    "\n",
    "Print the list of coauthors for the authors in the list `[13, 14, 22, 24, 25, 26, 27, 28, 29, 45]`.\n",
    "\n",
    "#### Hints\n",
    "\n",
    "Notice that the data contain errors. For example, I noticed that the data say that author 13 coauthored with himself/herself, which is meaningless. To get the maximum number of points, your code should exclude oneself in one's list of coauthors."
   ]
  },
  {
   "cell_type": "code",
   "execution_count": 11,
   "metadata": {
    "collapsed": true
   },
   "outputs": [
    {
     "name": "stdout",
     "output_type": "stream",
     "text": [
      "13 : [7596, 11196, 19170, 11196, 19170, 7596]\n",
      "14 : [14171, 14171]\n",
      "22 : [106, 11183, 15793, 19440, 22618, 25043, 15793, 22618, 25043, 106, 11183, 19440]\n",
      "24 : [19517, 3858, 23161, 3858, 15774, 19517, 23161, 15774]\n",
      "25 : [22891, 22891]\n",
      "26 : [13096, 11801, 4550, 13142, 1407, 1407, 4550, 11801, 13096, 13142]\n",
      "27 : [25540, 24726, 19081, 11114, 19081, 24726, 25540, 11114]\n",
      "28 : [7916, 7916]\n",
      "29 : [20243, 20243]\n",
      "45 : [6610, 21012, 22691, 18866, 25758, 11241, 570, 18719, 773, 21847, 6179, 2741, 14807, 24955, 570, 773, 1186, 1653, 2212, 2741, 2952, 3372, 4164, 4180, 4511, 4513, 6179, 6610, 6830, 7956, 8879, 9785, 11241, 11472, 12365, 12496, 12679, 12781, 12851, 14540, 14807, 15003, 15659, 17655, 17692, 18719, 18866, 18894, 19423, 19961, 20108, 20562, 20635, 21012, 21281, 21508, 21847, 22691, 22887, 23293, 24955, 25346, 25758, 4511, 21281, 23293, 15003, 20635, 19423, 3372, 18894, 4180, 4164, 7956, 12365, 17655, 25346, 1653, 9785, 21508, 14540, 12781, 1186, 2212, 19961, 2952, 6830, 8879, 11472, 12496, 12851, 15659, 17692, 20108, 20562, 22887, 4513, 12679]\n"
     ]
    }
   ],
   "source": [
    "# Initializing author_dict with sets instead of lists\n",
    "#author_dict = {author_id: set() for author_id in sorted_authors}\n",
    "#create list rather than a set\n",
    "author_dict = {author_id: [] for author_id in sorted_authors}\n",
    "\n",
    "# Updating author_dict with coauthors using sets\n",
    "for coauthorship in coauthorship_list:\n",
    "    author1, author2 = coauthorship\n",
    "\n",
    "    if author1 != author2:  # Excluding cases where an author coauthors with themselves\n",
    "        author_dict[author1].append(author2)\n",
    "        author_dict[author2].append(author1)\n",
    "\n",
    " \n",
    "authors_sample = [13, 14, 22, 24, 25, 26, 27, 28, 29, 45]  # List of authors for whom I want to print their coauthors\n",
    "\n",
    "# new_dict = {}\n",
    "for author_id in authors_sample:\n",
    "    print(author_id, ':', author_dict[author_id])\n",
    "#     if author_id in author_dict:\n",
    "#         coauthors = list(author_dict[author_id])  # Converting set to list for printing\n",
    "#         new_dict[author_id] = coauthors\n",
    "      \n",
    "# print(new_dict)\n"
   ]
  },
  {
   "cell_type": "markdown",
   "metadata": {},
   "source": [
    "---\n",
    "### Problem 4: Who has the most coauthors?\n",
    "\n",
    "Find the author who has the most coauthors. Print the id of that author and the number of coauthors they have. \n",
    "\n",
    "Solve this problem using iteration and conditionals; you are not allowed to use external modules. \n"
   ]
  },
  {
   "cell_type": "code",
   "execution_count": 4,
   "metadata": {},
   "outputs": [
    {
     "name": "stdout",
     "output_type": "stream",
     "text": [
      "ID of the author with the most coauthor is 21012 with 81 coauthors.\n"
     ]
    }
   ],
   "source": [
    "max_coauthor_num = 0\n",
    "author_has_most_coauthors = None\n",
    "\n",
    "for author_id, coauthors in author_dict.items(): # iterating the author.dict to find author with the most coauthors\n",
    "    coauthor_count = len(coauthors)\n",
    "\n",
    "    if coauthor_count > max_coauthor_num: # comparing if the current author has more coauthors than current max\n",
    "        max_coauthor_num = coauthor_count\n",
    "        author_has_most_coauthors = author_id\n",
    "\n",
    "print('ID of the author with the most coauthor is ' + str(author_has_most_coauthors) + ' with ' + str(max_coauthor_num) + ' coauthors.')"
   ]
  },
  {
   "cell_type": "markdown",
   "metadata": {},
   "source": [
    "---\n",
    "\n",
    "### Evaluation\n",
    "\n",
    "| Problem | Mark     | Comment   \n",
    "|:-------:|:--------:|:----------------------\n",
    "| 1       |   3/3    | Good |             \n",
    "| 2       |   3/4    | You should use dictionary indexing to retrieve the value for a given key. |\n",
    "| 3       |   2/3    | Your full dictionary use sets for values, but the instructions asked you to have lists instead.\n",
    "| 4       |   4/4    | Good |\n",
    "| Code legibility       |   1/2    | Good but avoid inline comments - they are hard to read and make the code lines too long|\n",
    "| Code efficiency      |   2/4    |  Loading the whole data in P1 is less efficient than streaming (see the instructions we gave you above). For P3, you don't need to add j-i when seeing i-j, as explained in P2 instructions. You also don't need to create a new object to print - just subset and print what you are asked for. In P3, you can unpack the tuple in the for statement.|\n",
    "|**Total**|**15/20**  | Good work!|\n"
   ]
  }
 ],
 "metadata": {
  "kernelspec": {
   "display_name": "Python 3 (ipykernel)",
   "language": "python",
   "name": "python3"
  },
  "language_info": {
   "codemirror_mode": {
    "name": "ipython",
    "version": 3
   },
   "file_extension": ".py",
   "mimetype": "text/x-python",
   "name": "python",
   "nbconvert_exporter": "python",
   "pygments_lexer": "ipython3",
   "version": "3.11.4"
  }
 },
 "nbformat": 4,
 "nbformat_minor": 2
}
