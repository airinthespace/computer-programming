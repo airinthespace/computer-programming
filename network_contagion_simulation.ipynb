{
 "cells": [
  {
   "cell_type": "markdown",
   "metadata": {
    "slideshow": {
     "slide_type": "slide"
    }
   },
   "source": [
    "##### MY470 Computer Programming\n",
    "\n",
    "### Problem Set 3, AT 2023\n",
    "\n",
    "#### \\*\\*\\* Due 12:00 noon on Monday, November 6 \\*\\*\\*"
   ]
  },
  {
   "cell_type": "markdown",
   "metadata": {
    "slideshow": {
     "slide_type": "slide"
    }
   },
   "source": [
    "---\n",
    "### Simulating contagion on a network\n",
    "\n",
    "In this problem set, you are asked to write a program that simulates the contagion of disease or information on an empirical network. In academic research, contagion models have been used to study the properties of different types of networks. In practice, contagion models are extremely valuable to predict the spread of contagious disease such as the flu or STDs.\n",
    "\n",
    "We will use the simplest of contagion models — the SI model. SI stands for susceptible and infected. The SI model assumes that once a susceptible individual is infected, there is no recovery. This is a good representation for the spread of non-curable but non-deadly infectious disease such as Herpes simplex or for the spread of new technologies and knowledge.\n",
    "\n",
    "In the SI model we will implement, we will start with a population where everyone is susceptible. Then we will randomly pick a small number of individuals (\"Patients 0\") and infect them. In the next period, all the contacts of the infected individuals will get infected (thus, we will assume that the probability of transmission is 1). And so on. We will repeat the process until everyone in the network is infected or until a certain number of periods have passed (the latter is necessary for networks that are not connected and have separate components; in such situations, it is possible that the contagion never reaches some individuals). \n",
    "\n",
    "We will run the model on a real network. For simplicity, we will reuse the co-authorship network we analyzed in Problem Set 1. So think about the contagion in this case as learning about a new research technique, empirical finding, or theoretical result.\n",
    "\n",
    "#### Hints\n",
    "\n",
    "Use docstrings to describe your methods. We will subtract points from your mark if you do not use appropriate description of your code.\n"
   ]
  },
  {
   "cell_type": "markdown",
   "metadata": {},
   "source": [
    "### Problem 1: Working in a team\n",
    "\n",
    "Work with your assigned partner to complete and submit the problem set. You can meet in person to discuss the division of labor but we expect you to use GitHub to communicate when coding your part and merging your contributions. We will  review the Issues, Pull request, and Wiki stats for your repository. You will get the full points for this problem if we find sufficient evidence that you have made use of GitHub as a collaboration tool. \n",
    "\n",
    "#### Hints\n",
    "\n",
    "One reasonable way to divide the work is to assign Problems 2 and 3 to Student A and Problems 4 and 5 to Student B.\n"
   ]
  },
  {
   "cell_type": "markdown",
   "metadata": {},
   "source": [
    "### Problem 2: Class for network\n",
    "\n",
    "Create a class called `UndirectedNetwork`. The class should have the following data attributes:\n",
    "\n",
    "* `nodes` — a dictionary where the node id is a key and the value is a list with the ids of the node's neighbors (coauthors for our data); initially empty\n",
    "\n",
    "and the following methods:\n",
    "\n",
    "* `add_node` — takes `node_id` and initializes it as a key to `nodes` if it is not already there\n",
    "* `add_neighbors` — takes two arguments: `ego_id` and `alter_id` and adds `alter_id` to `ego_id`'s list of neighbors and `ego_id` to `alter_id`'s list of neighbors, if they are not already there\n",
    "* `get_node_ids` — generator method that gives the ids of the nodes in the network\n",
    "* `get_node_neighbors` — generator method that takes `node_id` and gives its neighbors\n",
    "\n",
    "Calling the `print()` function on a `UndirectedNetwork` object should print the number of nodes in the network, e.g. \"Undirected network with 455 nodes\".\n"
   ]
  },
  {
   "cell_type": "code",
   "execution_count": 1,
   "metadata": {
    "collapsed": true
   },
   "outputs": [],
   "source": [
    "# Enter your answer to Problem 2 below.\n",
    "class UndirectedNetwork:\n",
    "    \"\"\"A class representing an undirected network.\"\"\"\n",
    "    def __init__(self):\n",
    "        \"\"\"Initialize an empty UndirectedNetwork.\"\"\"\n",
    "        self.nodes = {}\n",
    "    \n",
    "    def add_node(self, node_id):\n",
    "        \"\"\"Add a node to the network if it doesn't already exist.\"\"\"\n",
    "        if node_id not in self.nodes:\n",
    "            self.nodes[node_id] = []\n",
    "    \n",
    "    def add_neighbors(self, ego_id, alter_id):\n",
    "        \"\"\"Add an undirected edge between two nodes.\"\"\"\n",
    "        if alter_id not in self.nodes[ego_id]:\n",
    "            self.nodes[ego_id].append(alter_id)\n",
    "        if ego_id not in self.nodes[alter_id]:\n",
    "            self.nodes[alter_id].append(ego_id)\n",
    "    \n",
    "    def get_node_ids(self):\n",
    "        \"\"\"Iterate over all node IDs in the network.\n",
    "        This generator function yields the unique identifiers of all nodes in the network.\n",
    "        \"\"\"\n",
    "        for node_id in self.nodes:\n",
    "            yield node_id\n",
    "    \n",
    "    def get_node_neighbors(self, node_id):\n",
    "        \"\"\"Iterate over the neighbors of a specific node in the network.\n",
    "        This generator function yields the unique identifiers of neighbors for a given node in the network.\n",
    "        \"\"\"\n",
    "        if node_id in self.nodes:\n",
    "            for neighbor_id in self.nodes[node_id]:\n",
    "                yield neighbor_id\n",
    "    \n",
    "    def __str__(self):\n",
    "        \"\"\"Get a string representation of the network,  indicating the number of nodes it contains.\"\"\"\n",
    "        return f\"Undirected network with {len(self.nodes)} nodes\""
   ]
  },
  {
   "cell_type": "markdown",
   "metadata": {},
   "source": [
    "### Problem 3: Create an instance of the network class\n",
    "\n",
    "Read the data from the file `ca-GrQc.txt` in the `data` repository (use the same relative path as in the previous problem sets). Save the data in an instance of the UndirectedNetwork class you created. Call print on the instance.\n"
   ]
  },
  {
   "cell_type": "code",
   "execution_count": 2,
   "metadata": {
    "collapsed": true,
    "scrolled": false
   },
   "outputs": [
    {
     "name": "stdout",
     "output_type": "stream",
     "text": [
      "Undirected network with 5242 nodes\n"
     ]
    }
   ],
   "source": [
    "# Enter your answer to Problem 3 below.\n",
    "network = UndirectedNetwork()\n",
    "    \n",
    "with open('../data/ca-GrQc.txt', 'r') as file:\n",
    "    for line in file:\n",
    "        if line.startswith('#'):\n",
    "            continue\n",
    "        ego_id, alter_id = map(int, line.strip().split())\n",
    "        network.add_node(ego_id)\n",
    "        network.add_node(alter_id)\n",
    "        network.add_neighbors(ego_id, alter_id)\n",
    "   \n",
    "print(network)"
   ]
  },
  {
   "cell_type": "markdown",
   "metadata": {},
   "source": [
    "---\n",
    "### Problem 4: Class for SI model\n",
    "\n",
    "\n",
    "Create a class called `SIModel` that has the following data attributes:\n",
    "\n",
    "* `network` — an instance of class UndirectedNetwork taken at instantiation\n",
    "* `susceptible_nodes` — a list of ids for nodes that are not yet infected; initially includes all nodes from `network`\n",
    "* `infected_nodes` — a list of ids for nodes that are infected; initially empty\n",
    "* `num_infected` — keeps track of the number of infected nodes; initially `0`\n",
    "\n",
    "and the following methods:\n",
    "\n",
    "* `initialize` — takes an integer `n` to randomly select `n` number of nodes and infect them; then prints the number of infected nodes\n",
    "* `update` — iterates over the susceptible nodes in random order and infects those who have at least one infected neighbor; then prints the number of infected nodes. The process should be asynchronous, in the sense that a node immediately becomes infected and will then infect any susceptible neighbors who are yet to be iterated over.\n",
    "* `run` — repeats `update` until all nodes are infected or until `update` has been run 30 times\n",
    "\n",
    "Calling the `print()` function on a `SIModel` object should print `num_infected`.\n",
    "\n",
    "#### Hints\n",
    "\n",
    "In this problem you will need to use functions from the `random` module. You can read more about it [here](https://docs.python.org/3/library/random.html).\n",
    "\n",
    "Make sure the methods update all the relevant data attributes when called."
   ]
  },
  {
   "cell_type": "code",
   "execution_count": 3,
   "metadata": {
    "collapsed": true
   },
   "outputs": [],
   "source": [
    "# Enter your answer to Problem 4 below. \n",
    "import random\n",
    "\n",
    "class SIModel(object):  \n",
    "\n",
    "    def __init__(self, network):\n",
    "        \"\"\"Constructor method that initializes the SIModel class, taking as an argument an instance \n",
    "        of the UndirectedNetwork class provided during instantiation.\"\"\"\n",
    "        self.network = network \n",
    "        self.susceptible_nodes = list(self.network.get_node_ids())  \n",
    "        self.infected_nodes = []\n",
    "        self.num_infected = 0\n",
    "\n",
    "    def initialize(self, n):\n",
    "        \"\"\"Initializes the SIModel by randomly selecting and infecting 'n' nodes from the network.\"\"\"\n",
    "        #We establish this condition to not get an error, in case the random n is higher than our actual population\n",
    "        if n  > len(self.susceptible_nodes):\n",
    "            n = len(self.susceptible_nodes)\n",
    "\n",
    "        #We infect randomly selected n number of nodes\n",
    "        infectednodes = random.sample(self.susceptible_nodes, n)\n",
    "\n",
    "        #We add those to the list of infected nodes \n",
    "        self.infected_nodes.extend(infectednodes)\n",
    "\n",
    "        #We remove from the susceptible nodes the ones that have been infected now\n",
    "        for infectednode in infectednodes:\n",
    "            self.susceptible_nodes.remove(infectednode)\n",
    "\n",
    "        #We add the randomly infected nodes to the total number of infected\n",
    "        self.num_infected += n    \n",
    "        print(self.num_infected)\n",
    "\n",
    "\n",
    "    def update(self):\n",
    "        \"\"\"Iterates over susceptible nodes in a random order and infects those having at least one infected neighbor.\"\"\"\n",
    "        for node in random.sample(self.susceptible_nodes, len(self.susceptible_nodes)):\n",
    "            neighbors = list(self.network.get_node_neighbors(node)) \n",
    "            if any(neighbor in self.infected_nodes for neighbor in neighbors):\n",
    "                self.infected_nodes.append(node)\n",
    "                self.susceptible_nodes.remove(node)\n",
    "\n",
    "        #We update all the varibales as in the previous step       \n",
    "        self.num_infected = len(self.infected_nodes)   \n",
    "        print(self.num_infected)\n",
    "\n",
    "\n",
    "    def run(self):\n",
    "        \"\"\"Repeatedly runs the update method until all nodes are infected or until the method has been executed 30 times.\"\"\"\n",
    "        iteration = 0\n",
    "\n",
    "        while iteration < 30 and len(self.susceptible_nodes) > 0:\n",
    "            iteration += 1\n",
    "            self.update()\n",
    "\n",
    "\n",
    "    def __str__(self):\n",
    "        \"\"\"Returns a string representation of the SIModel instance.\"\"\"\n",
    "        return str(self.num_infected) "
   ]
  },
  {
   "cell_type": "markdown",
   "metadata": {},
   "source": [
    "---\n",
    "### Problem 5: Run the model\n",
    "\n",
    "Run `SIModel` using the network from Problem 2. You should initialize the simulation with 3 seeds (the number of \"patients 0\").\n"
   ]
  },
  {
   "cell_type": "code",
   "execution_count": 4,
   "metadata": {
    "collapsed": true,
    "scrolled": false
   },
   "outputs": [
    {
     "name": "stdout",
     "output_type": "stream",
     "text": [
      "3\n",
      "824\n",
      "3069\n",
      "3979\n",
      "4126\n",
      "4152\n",
      "4156\n",
      "4158\n",
      "4158\n",
      "4158\n",
      "4158\n",
      "4158\n",
      "4158\n",
      "4158\n",
      "4158\n",
      "4158\n",
      "4158\n",
      "4158\n",
      "4158\n",
      "4158\n",
      "4158\n",
      "4158\n",
      "4158\n"
     ]
    }
   ],
   "source": [
    "# Enter your answer to Problem 5 below. \n",
    "si_model = SIModel(network)\n",
    "si_model.initialize(3)\n",
    "si_model.run()"
   ]
  },
  {
   "cell_type": "markdown",
   "metadata": {},
   "source": [
    "---\n",
    "\n",
    "### Evaluation\n",
    "\n",
    "| Problem | Mark     | Comment   \n",
    "|:-------:|:--------:|:----------------------\n",
    "| 1       |   1/2    |  Could make a little more use raising, resolving, closing issues .\n",
    "| 2       |   4/4    |  You could also check that ego/alter are present in the network (and add them) within `add_neighbors`   \n",
    "| 3       |   1/1    | You should check that you don't add any self-loops to the network\n",
    "| 4       |   5/5    | Good. Can just do `for neighbor in self.network.get_node_neighbors(node)`, rather than creating list.\n",
    "| 5       |   1/1    | Good\n",
    "| Legibility   |   1/2    | docstring needed for SIModel\n",
    "| Modularity   |   1/2    | Can just use `print(self)` for num infected\n",
    "| Efficiency   |   3/3    | Good\n",
    "|**Total**|**17/20**  | Very good\n"
   ]
  }
 ],
 "metadata": {
  "kernelspec": {
   "display_name": "Python 3 (ipykernel)",
   "language": "python",
   "name": "python3"
  },
  "language_info": {
   "codemirror_mode": {
    "name": "ipython",
    "version": 3
   },
   "file_extension": ".py",
   "mimetype": "text/x-python",
   "name": "python",
   "nbconvert_exporter": "python",
   "pygments_lexer": "ipython3",
   "version": "3.9.8"
  }
 },
 "nbformat": 4,
 "nbformat_minor": 2
}
